{
 "cells": [
  {
   "cell_type": "code",
   "execution_count": 1,
   "metadata": {},
  
   "source": [
    "import numpy as np\n",
    "import pandas as pd\n",
    "from pandas import Series, DataFrame\n",
    "import math\n",
    "import os\n",
    "import glob\n",
    "import arcpy"
   ]
  },
  {
   "cell_type": "code",
   "execution_count": null,
   "metadata": {},
   "outputs": [],
   "source": [
    "def generowanie_rastrow(df_row, model_folder): \n",
    "    # trzeba bedzie wybierac do wyrazania tylko te zmienne, ktore spelniaja warunki istotnosci\n",
    "    wyrazenie = str('\"' + model_folder + \"\\\\dist_rds.tif\" + '\"' + \" * \" + str(df_row['dist_rds'])\n",
    "     + \" + \" + '\"' + model_folder + \"\\\\farm.tif\" + '\"' + \" * \" + str(df_row['farm'])\n",
    "     + \" + \" + '\"' + model_folder +  \"\\\\nach.tif\" + '\"' + \" * \" + str(df_row['nach'])\n",
    "     + \" + \" + '\"' + model_folder +  \"\\\\pop_dens.tif\" + '\"' + \" * \" + str(df_row['pop_dens'])\n",
    "     + \" + \" + '\"' + model_folder +  \"\\\\prec.tif\" + '\"' + \" * \" + str(df_row['prec'])\n",
    "     + \" + \" + '\"' + model_folder +  \"\\\\temp.tif\" + '\"' + \" * \" + str(df_row['temp'])\n",
    "     + \" + \" + '\"' + model_folder +  \"\\\\tourism.tif\" + '\"' + \" * \" + str(df_row['tourism'])\n",
    "     + \" + \" + '\"' + model_folder +  \"\\\\tpi.tif\" + '\"' + \" * \" + str(df_row['tpi']))\n",
    "        \n",
    "    output_raster = model_folder + \"\\\\prob_les_niestand.tif\"\n",
    "    arcpy.gp.RasterCalculator_sa(wyrazenie, output_raster)\n",
    "    output_raster_stand =  model_folder + \"\\\\prob_les_stand.tif\"\n",
    "\n",
    "    # standaryzacja\n",
    "     #arcpy.gp.RescaleByFunction_sa(output_raster, output_raster_stand, \"LINEAR  #  #  #  #  #  #\", \"0\", \"1\")\n",
    "    #wyrazenie_standard = (\"raster\" - \"raster\".minimum) / (\"raster\".maximum - \"raster\".minimum) * 100"
   ]
  },
  {
   "cell_type": "code",
   "execution_count": null,
   "metadata": {},
   "outputs": [],
   "source": [
    "path = r'c:\\doktorat\\czemp5\\konglomeraty_250'\n",
    "df = pd.read_csv(r'c:\\doktorat\\czemp5\\konglomeraty_250\\modele_konglomeraty_wyniki_param2.csv')\n",
    "\n",
    "for index, row in df.iterrows():\n",
    "    try:\n",
    "        zmienna_folder = df.loc[index, 'regiony_x']\n",
    "        zmienna_folder_model = str(df.loc[index, 'model_x'])\n",
    "        folder_modelowy = os.path.join(path, zmienna_folder, zmienna_folder_model)\n",
    "        print(folder_modelowy)\n",
    "        # selekcja jednego wiersza\n",
    "        df_row = df.loc[index,:]\n",
    "\n",
    "        generowanie_rastrow(df_row, folder_modelowy)   \n",
    "    except:\n",
    "        print(\"cos nie idzie\")"
   ]
  },
