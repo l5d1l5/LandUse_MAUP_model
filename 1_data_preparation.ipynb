{
 "cells": [
  {
   "cell_type": "code",
   "execution_count": 1,
   "metadata": {},
   "outputs": [
    {
     "ename": "ImportError",
     "evalue": "No module named arcpy",
     "output_type": "error",
     "traceback": [
      "\u001b[1;31m---------------------------------------------------------------------------\u001b[0m",
      "\u001b[1;31mImportError\u001b[0m                               Traceback (most recent call last)",
      "\u001b[1;32m<ipython-input-1-d7707c9bb7ac>\u001b[0m in \u001b[0;36m<module>\u001b[1;34m()\u001b[0m\n\u001b[1;32m----> 1\u001b[1;33m \u001b[1;32mimport\u001b[0m \u001b[0marcpy\u001b[0m\u001b[1;33m,\u001b[0m \u001b[0mmath\u001b[0m\u001b[1;33m\u001b[0m\u001b[0m\n\u001b[0m\u001b[0;32m      2\u001b[0m \u001b[1;32mimport\u001b[0m \u001b[0mos\u001b[0m\u001b[1;33m\u001b[0m\u001b[0m\n\u001b[0;32m      3\u001b[0m \u001b[1;32mimport\u001b[0m \u001b[0mos\u001b[0m\u001b[1;33m.\u001b[0m\u001b[0mpath\u001b[0m\u001b[1;33m\u001b[0m\u001b[0m\n\u001b[0;32m      4\u001b[0m \u001b[1;32mfrom\u001b[0m \u001b[0marcpy\u001b[0m \u001b[1;32mimport\u001b[0m \u001b[0menv\u001b[0m\u001b[1;33m\u001b[0m\u001b[0m\n\u001b[0;32m      5\u001b[0m \u001b[1;32mimport\u001b[0m \u001b[0mrandom\u001b[0m\u001b[1;33m\u001b[0m\u001b[0m\n",
      "\u001b[1;31mImportError\u001b[0m: No module named arcpy"
     ]
    }
   ],
   "source": [
    "import arcpy, math\n",
    "import os\n",
    "import os.path\n",
    "from arcpy import env\n",
    "import random\n",
    "from arcpy.sa import *\n",
    "import pandas as pd\n",
    "import numpy as np\n",
    "# Check out any necessary licenses\n",
    "arcpy.CheckOutExtension(\"3D\")\n",
    "arcpy.CheckOutExtension(\"spatial\")\n",
    "import matplotlib.pyplot as plt"
   ]
  },
  {
   "cell_type": "code",
   "execution_count": 2,
   "metadata": {},
   "outputs": [],
   "source": [
    "folder_nadrzedny_lista =[]\n",
    "#folder_nadrzedny_lista = [r'c:\\doktorat\\czemp6\\kondracki_mezo',\n",
    "#                            r'c:\\doktorat\\czemp6\\kondracki_mezo_makro',\n",
    "#                             r'c:\\doktorat\\czemp6\\powiaty',\n",
    "#                          r'c:\\doktorat\\czemp6\\kwadraty_losowe',\n",
    "#                         'c:\\doktorat\\czemp6\\kwadraty_10km']\n",
    "\n",
    "                \n",
    "for folder_nadrzedny in folder_nadrzedny_lista:                     \n",
    "    arcpy.env.workspace = folder_nadrzedny\n",
    "    model_folders = arcpy.ListWorkspaces()\n",
    "    tabela_wspolczynnikow=pd.DataFrame\n",
    "\n",
    "    lista_csv =[]\n",
    "\n",
    "    for model_folder in model_folders:\n",
    "            data_frame = pd.DataFrame()\n",
    "            arcpy.env.workspace = model_folder\n",
    "            os.chdir(model_folder)\n",
    "            lista_rastrow = arcpy.ListRasters()\n",
    "            arcpy.env.overwriteOutput = True\n",
    "            lista_kolumn =[]\n",
    "            for j in lista_rastrow:\n",
    "                try:\n",
    "                    array1 = arcpy.RasterToNumPyArray(j)\n",
    "                    plt.imshow(array1)\n",
    "                    plt.show()\n",
    "                    plt.clf()\n",
    "                    array_plaska = array1.ravel()\n",
    "                    series = pd.Series(array_plaska)\n",
    "\n",
    "                    #series.rename(nazwa_series)\n",
    "                    kolumna = str(j[:-4])\n",
    "                    data_frame[kolumna] = series.values\n",
    "                    lista_kolumn.append(kolumna)\n",
    "                except:\n",
    "                    print(\"dasd\")\n",
    "\n",
    "            df_skrocony2 = data_frame.sample(frac=0.25, replace=True)\n",
    "            df_skrocony = df_skrocony2.replace({255: np.NaN, -32768.000000: np.NaN, -9999: np.NaN})\n",
    "            df3 = df_skrocony.dropna()\n",
    "            csv = os.path.join(folder_nadrzedny, str(model_folder) + \".csv\")\n",
    "            print(csv)\n",
    "            df3.to_csv(csv)\n",
    "\n",
    "            lista_csv.append(df3)"
   ]
  }
 ],
 "metadata": {
  "kernelspec": {
   "display_name": "Python 2",
   "language": "python",
   "name": "python2"
  },
  "language_info": {
   "codemirror_mode": {
    "name": "ipython",
    "version": 2
   },
   "file_extension": ".py",
   "mimetype": "text/x-python",
   "name": "python",
   "nbconvert_exporter": "python",
   "pygments_lexer": "ipython2",
   "version": "2.7.14"
  }
 },
 "nbformat": 4,
 "nbformat_minor": 2
}
