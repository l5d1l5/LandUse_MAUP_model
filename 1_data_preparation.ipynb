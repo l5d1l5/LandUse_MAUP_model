{
 "cells": [
  {
   "cell_type": "code",
   "execution_count": null,
   "metadata": {},
   "outputs": [],
   "source": [
    "import arcpy, math\n",
    "import os\n",
    "import os.path\n",
    "from arcpy import env\n",
    "import random\n",
    "from arcpy.sa import *\n",
    "import pandas as pd\n",
    "import numpy as np\n",
    "# Check out any necessary licenses\n",
    "arcpy.CheckOutExtension(\"3D\")\n",
    "arcpy.CheckOutExtension(\"spatial\")\n",
    "import matplotlib.pyplot as plt"
   ]
  },
  {
   "cell_type": "code",
   "execution_count": null,
   "metadata": {},
   "outputs": [],
   "source": [
    "folder_rastry_legacies = r\"c:\\Users\\marci\\Dysk Google\\jupyter_pyton\\CZEMP\\dane\\wzorcowy_raw\"\n",
    "folder_modeli = r'c:\\doktorat\\czemp6\\powiaty'\n",
    "folder_out = folder_modeli"
   ]
  },
  {
   "cell_type": "code",
   "execution_count": null,
   "metadata": {},
   "outputs": [],
   "source": [
    "arcpy.env.workspace = folder_rastry_legacies\n",
    "lista_rastrow = arcpy.ListRasters()\n",
    "lista_rastrow2 = []\n",
    "\n",
    "for i in lista_rastrow:\n",
    "    desc = arcpy.Describe(i)\n",
    "    sciezka = os.path.join(desc.path, desc.name)\n",
    "    lista_rastrow2.append(sciezka)\n",
    "\n",
    "arcpy.env.workspace = folder_modeli\n",
    "lista_modeli = arcpy.ListFeatureClasses()\n",
    "foldery_modeli=[]\n",
    "\n",
    "for model in lista_modeli:\n",
    "    print(model)\n",
    "    nazwa = model[:-4]\n",
    "    arcpy.env.extent = model\n",
    "    sciezka_model = os.path.join(folder_out, nazwa)\n",
    "    try:\n",
    "        os.mkdir(sciezka_model)\n",
    "        foldery_modeli.append(sciezka_model)\n",
    "    except:\n",
    "        print(\"nie robi foldera, pewnie juz byl\")\n",
    "    for raster in lista_rastrow2:\n",
    "        raster_name = os.path.basename(raster)\n",
    "        outExtractByMask1 = ExtractByMask(raster, model)\n",
    "        outExtractByMask1.save(os.path.join(sciezka_model, raster_name))"
   ]
  },
  {
   "cell_type": "code",
   "execution_count": 2,
   "metadata": {},
   "outputs": [],
   "source": [
    "for model_folder in foldery_modeli:\n",
    "        data_frame = pd.DataFrame()\n",
    "        arcpy.env.workspace = model_folder\n",
    "        os.chdir(model_folder)\n",
    "        lista_rastrow = arcpy.ListRasters()\n",
    "        arcpy.env.overwriteOutput = True\n",
    "        lista_kolumn =[]\n",
    "        for j in lista_rastrow:\n",
    "            try:\n",
    "                array1 = arcpy.RasterToNumPyArray(j)\n",
    "                plt.imshow(array1)\n",
    "                plt.show()\n",
    "                plt.clf()\n",
    "                array_plaska = array1.ravel()\n",
    "                series = pd.Series(array_plaska)\n",
    "                kolumna = str(j[:-4])\n",
    "                data_frame[kolumna] = series.values\n",
    "                lista_kolumn.append(kolumna)\n",
    "            except:\n",
    "                print(\"dasd\")\n",
    "\n",
    "            df_skrocony2 = data_frame.sample(frac=0.25, replace=True)\n",
    "            df_skrocony = df_skrocony2.replace({255: np.NaN, -32768.000000: np.NaN, -9999: np.NaN})\n",
    "            df3 = df_skrocony.dropna()\n",
    "            csv = os.path.join(folder_nadrzedny, str(model_folder) + \".csv\")\n",
    "            print(csv)\n",
    "            df3.to_csv(csv)"
   ]
  }
 ],
 "metadata": {
  "kernelspec": {
   "display_name": "Python 2",
   "language": "python",
   "name": "python2"
  },
  "language_info": {
   "codemirror_mode": {
    "name": "ipython",
    "version": 2
   },
   "file_extension": ".py",
   "mimetype": "text/x-python",
   "name": "python",
   "nbconvert_exporter": "python",
   "pygments_lexer": "ipython2",
   "version": "2.7.14"
  }
 },
 "nbformat": 4,
 "nbformat_minor": 2
}
